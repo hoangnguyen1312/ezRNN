{
 "metadata": {
  "language_info": {
   "codemirror_mode": {
    "name": "ipython",
    "version": 3
   },
   "file_extension": ".py",
   "mimetype": "text/x-python",
   "name": "python",
   "nbconvert_exporter": "python",
   "pygments_lexer": "ipython3",
   "version": "3.8.3-final"
  },
  "orig_nbformat": 2,
  "kernelspec": {
   "name": "Python 3.8.3 64-bit ('base': conda)",
   "display_name": "Python 3.8.3 64-bit ('base': conda)",
   "metadata": {
    "interpreter": {
     "hash": "1088cceb0cfe8d54ce4e1a4afaed49f58a0814ef6dbe89385ae4278bf7822958"
    }
   }
  }
 },
 "nbformat": 4,
 "nbformat_minor": 2,
 "cells": [
  {
   "cell_type": "code",
   "execution_count": 5,
   "metadata": {},
   "outputs": [],
   "source": [
    "import numpy as np \n",
    "from keras.models import Sequential\n",
    "from keras.layers import Dense, Dropout, LSTM\n",
    "from keras.callbacks import ModelCheckpoint\n",
    "from keras.utils import np_utils\n",
    "import os"
   ]
  },
  {
   "cell_type": "code",
   "execution_count": 8,
   "metadata": {},
   "outputs": [
    {
     "output_type": "execute_result",
     "data": {
      "text/plain": "148574"
     },
     "metadata": {},
     "execution_count": 8
    }
   ],
   "source": [
    "# read file\n",
    "filename = './story.txt'\n",
    "raw_text = open(filename).read() # raw_text is a long string\n",
    "len(raw_text)"
   ]
  },
  {
   "cell_type": "code",
   "execution_count": 9,
   "metadata": {},
   "outputs": [],
   "source": [
    "content = raw_text.lower()"
   ]
  },
  {
   "cell_type": "code",
   "execution_count": 10,
   "metadata": {},
   "outputs": [],
   "source": [
    "characters = list(set(content))\n",
    "list_chars = sorted(characters)"
   ]
  },
  {
   "cell_type": "code",
   "execution_count": 11,
   "metadata": {},
   "outputs": [],
   "source": [
    "dictionary = dict((c,i) for (i, c) in enumerate(list_chars))"
   ]
  },
  {
   "cell_type": "code",
   "execution_count": 12,
   "metadata": {},
   "outputs": [
    {
     "output_type": "execute_result",
     "data": {
      "text/plain": "'abcdefghijklmnopqrstuvwxyz'"
     },
     "metadata": {},
     "execution_count": 12
    }
   ],
   "source": [
    "import string\n",
    "string.ascii_lowercase"
   ]
  },
  {
   "cell_type": "code",
   "execution_count": 20,
   "metadata": {},
   "outputs": [],
   "source": [
    "list_chars_new = list(string.ascii_lowercase) + ['0', '.', ',', ' ', '!', '?', 'unk']\n",
    "char_to_int = dict((char, idx) for (idx, char) in enumerate(list_chars_new))\n",
    "int_to_char = dict((idx, char) for (idx, char) in enumerate(list_chars_new))"
   ]
  },
  {
   "cell_type": "code",
   "execution_count": 14,
   "metadata": {},
   "outputs": [],
   "source": [
    "def _encode_sentence(text):\n",
    "    text = text.lower()\n",
    "    result_vector = []\n",
    "    for each_char in text:\n",
    "        if each_char in list_chars_new[:-1]:\n",
    "            result_vector.append(char_to_int[each_char])\n",
    "        else:\n",
    "            result_vector.append(char_to_int['unk'])\n",
    "\n",
    "    return result_vector"
   ]
  },
  {
   "cell_type": "code",
   "execution_count": 15,
   "metadata": {},
   "outputs": [
    {
     "output_type": "execute_result",
     "data": {
      "text/plain": "[0,\n 11,\n 8,\n 2,\n 4,\n 29,\n 8,\n 18,\n 29,\n 0,\n 29,\n 22,\n 14,\n 13,\n 3,\n 4,\n 17,\n 5,\n 20,\n 11,\n 29,\n 18,\n 19,\n 14,\n 17,\n 24,\n 27,\n 29,\n 32]"
     },
     "metadata": {},
     "execution_count": 15
    }
   ],
   "source": [
    "example_sentence = 'Alice is a wonderful story. #'\n",
    "_encode_sentence(example_sentence)"
   ]
  },
  {
   "cell_type": "code",
   "execution_count": 30,
   "metadata": {},
   "outputs": [],
   "source": [
    "def _decode_sentence(vector):\n",
    "    result = []\n",
    "    for i in vector:\n",
    "        result.append(int_to_char[i])\n",
    "    return ''.join(result)"
   ]
  },
  {
   "cell_type": "code",
   "execution_count": 31,
   "metadata": {},
   "outputs": [
    {
     "output_type": "execute_result",
     "data": {
      "text/plain": "'alice is a wonderful story. unk'"
     },
     "metadata": {},
     "execution_count": 31
    }
   ],
   "source": [
    "_decode_sentence(_encode_sentence(example_sentence))"
   ]
  },
  {
   "cell_type": "code",
   "execution_count": 50,
   "metadata": {},
   "outputs": [],
   "source": [
    "n_chars = len(raw_text)\n",
    "seq_length = 100\n",
    "dataX = []\n",
    "dataY = []\n",
    "for i in range(0, n_chars - seq_length):\n",
    "    dataX.append(_encode_sentence(raw_text[i: i + seq_length]))\n",
    "    dataY.append((_encode_sentence(raw_text[i + seq_length][0])))\n",
    "\n",
    "X_train = np.reshape(dataX, (len(dataX), 100, 1))\n",
    "X_train = X_train / len(char_to_int)"
   ]
  },
  {
   "cell_type": "code",
   "execution_count": 52,
   "metadata": {},
   "outputs": [
    {
     "output_type": "execute_result",
     "data": {
      "text/plain": "100"
     },
     "metadata": {},
     "execution_count": 52
    }
   ],
   "source": [
    "len(X_train[-1])"
   ]
  },
  {
   "cell_type": "code",
   "execution_count": 56,
   "metadata": {},
   "outputs": [
    {
     "output_type": "execute_result",
     "data": {
      "text/plain": "(148474, 33)"
     },
     "metadata": {},
     "execution_count": 56
    }
   ],
   "source": [
    "y_train = np_utils.to_categorical(dataY)\n",
    "len(y_train[-1])\n",
    "y_train.shape"
   ]
  },
  {
   "cell_type": "code",
   "execution_count": 57,
   "metadata": {},
   "outputs": [
    {
     "output_type": "execute_result",
     "data": {
      "text/plain": "(148474, 100, 1)"
     },
     "metadata": {},
     "execution_count": 57
    }
   ],
   "source": [
    "X_train.shape"
   ]
  },
  {
   "cell_type": "code",
   "execution_count": 64,
   "metadata": {
    "tags": []
   },
   "outputs": [
    {
     "output_type": "stream",
     "name": "stdout",
     "text": "Model: \"sequential_1\"\n_________________________________________________________________\nLayer (type)                 Output Shape              Param #   \n=================================================================\nlstm_1 (LSTM)                (None, 256)               264192    \n_________________________________________________________________\ndropout_1 (Dropout)          (None, 256)               0         \n_________________________________________________________________\ndense (Dense)                (None, 33)                8481      \n=================================================================\nTotal params: 272,673\nTrainable params: 272,673\nNon-trainable params: 0\n_________________________________________________________________\n"
    }
   ],
   "source": [
    "# LSTM model\n",
    "model = Sequential()\n",
    "model.add(LSTM(256, input_shape = (X_train.shape[1], X_train.shape[2])))\n",
    "model.add(Dropout(0.2))\n",
    "model.add(Dense(y_train.shape[1], activation = 'softmax'))\n",
    "model.compile(loss = 'categorical_crossentropy', optimizer = 'adam', metrics = ['accuracy'])\n",
    "model.summary()"
   ]
  },
  {
   "cell_type": "code",
   "execution_count": 65,
   "metadata": {},
   "outputs": [],
   "source": [
    "filepath = 'weights-improvement-{epoch:02d}-{loss:.4f}.hdf5'\n",
    "checkpoint = ModelCheckpoint(filepath, monitor = 'val_acc', verbose = 1, save_best_only = True, mode = 'max')\n",
    "callback_list = [checkpoint]"
   ]
  },
  {
   "cell_type": "code",
   "execution_count": 66,
   "metadata": {
    "tags": []
   },
   "outputs": [
    {
     "output_type": "stream",
     "name": "stdout",
     "text": "Epoch 1/5\n778/778 [==============================] - ETA: 0s - loss: 2.8892 - accuracy: 0.1967WARNING:tensorflow:Can save best model only with val_acc available, skipping.\n778/778 [==============================] - 414s 532ms/step - loss: 2.8892 - accuracy: 0.1967 - val_loss: 2.7911 - val_accuracy: 0.2009\nEpoch 2/5\n778/778 [==============================] - ETA: 0s - loss: 2.7406 - accuracy: 0.2165WARNING:tensorflow:Can save best model only with val_acc available, skipping.\n778/778 [==============================] - 464s 597ms/step - loss: 2.7406 - accuracy: 0.2165 - val_loss: 2.6982 - val_accuracy: 0.2300\nEpoch 3/5\n778/778 [==============================] - ETA: 0s - loss: 2.6651 - accuracy: 0.2415WARNING:tensorflow:Can save best model only with val_acc available, skipping.\n778/778 [==============================] - 431s 554ms/step - loss: 2.6651 - accuracy: 0.2415 - val_loss: 2.6387 - val_accuracy: 0.2434\nEpoch 4/5\n778/778 [==============================] - ETA: 0s - loss: 2.6105 - accuracy: 0.2554WARNING:tensorflow:Can save best model only with val_acc available, skipping.\n778/778 [==============================] - 374s 480ms/step - loss: 2.6105 - accuracy: 0.2554 - val_loss: 2.5860 - val_accuracy: 0.2621\nEpoch 5/5\n778/778 [==============================] - ETA: 0s - loss: 2.5588 - accuracy: 0.2700WARNING:tensorflow:Can save best model only with val_acc available, skipping.\n778/778 [==============================] - 427s 549ms/step - loss: 2.5588 - accuracy: 0.2700 - val_loss: 2.5458 - val_accuracy: 0.2709\n"
    },
    {
     "output_type": "execute_result",
     "data": {
      "text/plain": "<tensorflow.python.keras.callbacks.History at 0x7f8ffc3afc10>"
     },
     "metadata": {},
     "execution_count": 66
    }
   ],
   "source": [
    "model.fit(X_train, y_train, epochs = 5, batch_size = 128, validation_split=0.33, callbacks = callback_list, verbose = 1)\n"
   ]
  },
  {
   "cell_type": "code",
   "execution_count": 122,
   "metadata": {},
   "outputs": [
    {
     "output_type": "execute_result",
     "data": {
      "text/plain": "105"
     },
     "metadata": {},
     "execution_count": 122
    }
   ],
   "source": [
    "base_word = 'ssghjhjggffgfgjhtghqgffgghnbvfgAlice was beginning to get very tired of sitting by her sister on the bank'\n",
    "len(base_word)\n"
   ]
  },
  {
   "cell_type": "code",
   "execution_count": 126,
   "metadata": {
    "tags": []
   },
   "outputs": [
    {
     "output_type": "stream",
     "name": "stdout",
     "text": "205\n"
    },
    {
     "output_type": "execute_result",
     "data": {
      "text/plain": "' bank  and the was  hn  hn  hn  hu                                                                       '"
     },
     "metadata": {},
     "execution_count": 126
    }
   ],
   "source": [
    "def _predict_let(text, len_sen = 1):\n",
    "    text_for = []\n",
    "    for i in range(len_sen):\n",
    "        x_input = np.array(_encode_sentence(text)[-100:])/len(int_to_char)\n",
    "        if x_input.shape[0] < 100:\n",
    "            x_input = np.concatenate((np.zeros(100-x_input.shape[0]), x_input), axis = 0)\n",
    "        x_input = np.expand_dims(np.expand_dims(x_input, -1), 0)\n",
    "        # reshape x_input with shape (sample = 1, time_step = 100, feature = 1)\n",
    "        y_prob = model.predict(x_input)\n",
    "        y_let = int_to_char[np.argmax(y_prob, axis = 1)[0]]\n",
    "        text = text + y_let\n",
    "    return text[len_sen:]\n",
    "_predict_let(base_word, 100)"
   ]
  },
  {
   "cell_type": "code",
   "execution_count": 100,
   "metadata": {},
   "outputs": [
    {
     "output_type": "execute_result",
     "data": {
      "text/plain": "(1, 100, 1)"
     },
     "metadata": {},
     "execution_count": 100
    }
   ],
   "source": [
    "a = np.array(_encode_sentence(base_word)[-10:])\n",
    "b = np.concatenate((np.zeros(100-a.shape[0]), a), axis=0) \n",
    "np.expand_dims(np.expand_dims(b, -1), 0).shape"
   ]
  },
  {
   "cell_type": "code",
   "execution_count": 89,
   "metadata": {},
   "outputs": [
    {
     "output_type": "execute_result",
     "data": {
      "text/plain": "[0,\n 11,\n 8,\n 2,\n 4,\n 29,\n 22,\n 0,\n 18,\n 29,\n 1,\n 4,\n 6,\n 8,\n 13,\n 13,\n 8,\n 13,\n 6,\n 29,\n 19,\n 14,\n 29,\n 6,\n 4,\n 19,\n 29,\n 21,\n 4,\n 17,\n 24,\n 29,\n 19,\n 8,\n 17,\n 4,\n 3,\n 29,\n 14,\n 5,\n 29,\n 18,\n 8,\n 19,\n 19,\n 8,\n 13,\n 6,\n 29,\n 1,\n 24,\n 29,\n 7,\n 4,\n 17,\n 29,\n 18,\n 8,\n 18,\n 19,\n 4,\n 17,\n 29,\n 14,\n 13,\n 29,\n 19,\n 7,\n 4,\n 29,\n 1,\n 0,\n 13,\n 10]"
     },
     "metadata": {},
     "execution_count": 89
    }
   ],
   "source": [
    "_encode_sentence(base_word)"
   ]
  }
 ]
}